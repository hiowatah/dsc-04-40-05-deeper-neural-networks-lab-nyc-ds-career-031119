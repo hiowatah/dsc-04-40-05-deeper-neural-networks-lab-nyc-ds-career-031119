{
 "cells": [
  {
   "cell_type": "markdown",
   "metadata": {},
   "source": [
    "# Deeper Neural Networks - Lab"
   ]
  },
  {
   "cell_type": "markdown",
   "metadata": {},
   "source": [
    "## Introduction\n",
    "In this lab, we'll extend our neural networks knowledge further and add one hidden layer in our neural network. \n",
    "\n",
    "We'll perform forward propagation, backward propagation, and work with activation functions we haven't used before: the hyperbolic tangent or \"tanh\" activation function. Let's get started!\n",
    "\n",
    "## Objectives\n",
    "\n",
    "You will be able to:\n",
    "* Generate a random dataset\n",
    "* Graph a decision boundary for a 2 variable classifier\n",
    "* Create a Neural Net Classifier"
   ]
  },
  {
   "cell_type": "markdown",
   "metadata": {},
   "source": [
    "## Import packages and generate the data"
   ]
  },
  {
   "cell_type": "markdown",
   "metadata": {},
   "source": [
    "Let's first start with importing the necessary libraries. We'll use plotting as well as numpy. Additionally, we'll generate our own data using scikit-learn, so we have to use that library as well."
   ]
  },
  {
   "cell_type": "code",
   "execution_count": 1,
   "metadata": {},
   "outputs": [],
   "source": [
    "# Code provided; just run this cell\n",
    "# Package imports\n",
    "import matplotlib\n",
    "import matplotlib.pyplot as plt\n",
    "import numpy as np\n",
    "import sklearn\n",
    "from sklearn.datasets import make_classification\n",
    "import sklearn.linear_model\n",
    "\n",
    "# Display plots inline and change default figure size\n",
    "%matplotlib inline\n",
    "matplotlib.rcParams['figure.figsize'] = (6.0, 6.0)"
   ]
  },
  {
   "cell_type": "markdown",
   "metadata": {},
   "source": [
    "Next, let's generate our data. Scikit-learns enables the creation of simple toy datasets to visualize clustering and classification algorithms. One of them is called `make_circles` and generates a a large circle containing a smaller circle in 2D. `make_circles`-function has several arguments, but here we'll just use 2: `n_samples` and `noise`. We'll create a data set with 500 samples, and insert noise equal to 0.1."
   ]
  },
  {
   "cell_type": "code",
   "execution_count": 2,
   "metadata": {},
   "outputs": [
    {
     "data": {
      "text/plain": [
       "<matplotlib.collections.PathCollection at 0x7f63b5095ba8>"
      ]
     },
     "execution_count": 2,
     "metadata": {},
     "output_type": "execute_result"
    },
    {
     "data": {
      "image/png": "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